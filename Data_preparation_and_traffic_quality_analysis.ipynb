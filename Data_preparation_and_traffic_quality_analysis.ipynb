{
 "cells": [
  {
   "cell_type": "code",
   "execution_count": 1,
   "id": "49641bf4",
   "metadata": {},
   "outputs": [],
   "source": [
    "import pandas as pd\n",
    "import matplotlib.pyplot as plt\n",
    "import missingno as msno"
   ]
  },
  {
   "cell_type": "code",
   "execution_count": 2,
   "id": "af770437",
   "metadata": {},
   "outputs": [
    {
     "data": {
      "text/html": [
       "<div>\n",
       "<style scoped>\n",
       "    .dataframe tbody tr th:only-of-type {\n",
       "        vertical-align: middle;\n",
       "    }\n",
       "\n",
       "    .dataframe tbody tr th {\n",
       "        vertical-align: top;\n",
       "    }\n",
       "\n",
       "    .dataframe thead th {\n",
       "        text-align: right;\n",
       "    }\n",
       "</style>\n",
       "<table border=\"1\" class=\"dataframe\">\n",
       "  <thead>\n",
       "    <tr style=\"text-align: right;\">\n",
       "      <th></th>\n",
       "      <th>user_id</th>\n",
       "      <th>ad_channel</th>\n",
       "      <th>funnel_stage</th>\n",
       "      <th>price</th>\n",
       "      <th>profit</th>\n",
       "      <th>os</th>\n",
       "      <th>timestamp</th>\n",
       "    </tr>\n",
       "  </thead>\n",
       "  <tbody>\n",
       "    <tr>\n",
       "      <th>0</th>\n",
       "      <td>666743</td>\n",
       "      <td>banner</td>\n",
       "      <td>interest</td>\n",
       "      <td>0.50</td>\n",
       "      <td>NaN</td>\n",
       "      <td>Android</td>\n",
       "      <td>150000</td>\n",
       "    </tr>\n",
       "    <tr>\n",
       "      <th>1</th>\n",
       "      <td>512217</td>\n",
       "      <td>video</td>\n",
       "      <td>interest</td>\n",
       "      <td>0.75</td>\n",
       "      <td>NaN</td>\n",
       "      <td>iOS</td>\n",
       "      <td>150000</td>\n",
       "    </tr>\n",
       "    <tr>\n",
       "      <th>2</th>\n",
       "      <td>399556</td>\n",
       "      <td>search</td>\n",
       "      <td>INTEREST</td>\n",
       "      <td>1.50</td>\n",
       "      <td>NaN</td>\n",
       "      <td>iOS</td>\n",
       "      <td>150000</td>\n",
       "    </tr>\n",
       "    <tr>\n",
       "      <th>3</th>\n",
       "      <td>230119</td>\n",
       "      <td>search</td>\n",
       "      <td>INTEREST</td>\n",
       "      <td>1.50</td>\n",
       "      <td>NaN</td>\n",
       "      <td>iOS</td>\n",
       "      <td>150000</td>\n",
       "    </tr>\n",
       "    <tr>\n",
       "      <th>4</th>\n",
       "      <td>619571</td>\n",
       "      <td>search</td>\n",
       "      <td>CONSIDERATION</td>\n",
       "      <td>1.50</td>\n",
       "      <td>NaN</td>\n",
       "      <td>iOS</td>\n",
       "      <td>150000</td>\n",
       "    </tr>\n",
       "    <tr>\n",
       "      <th>...</th>\n",
       "      <td>...</td>\n",
       "      <td>...</td>\n",
       "      <td>...</td>\n",
       "      <td>...</td>\n",
       "      <td>...</td>\n",
       "      <td>...</td>\n",
       "      <td>...</td>\n",
       "    </tr>\n",
       "    <tr>\n",
       "      <th>4228776</th>\n",
       "      <td>501946</td>\n",
       "      <td>search</td>\n",
       "      <td>INTENT</td>\n",
       "      <td>1.50</td>\n",
       "      <td>NaN</td>\n",
       "      <td>Android</td>\n",
       "      <td>224125</td>\n",
       "    </tr>\n",
       "    <tr>\n",
       "      <th>4228777</th>\n",
       "      <td>749577</td>\n",
       "      <td>search</td>\n",
       "      <td>PURCHASE</td>\n",
       "      <td>1.50</td>\n",
       "      <td>2136.0</td>\n",
       "      <td>iOS</td>\n",
       "      <td>224647</td>\n",
       "    </tr>\n",
       "    <tr>\n",
       "      <th>4228778</th>\n",
       "      <td>929180</td>\n",
       "      <td>search</td>\n",
       "      <td>INTENT</td>\n",
       "      <td>1.50</td>\n",
       "      <td>NaN</td>\n",
       "      <td>iOS</td>\n",
       "      <td>224682</td>\n",
       "    </tr>\n",
       "    <tr>\n",
       "      <th>4228779</th>\n",
       "      <td>1034498</td>\n",
       "      <td>search</td>\n",
       "      <td>INTENT</td>\n",
       "      <td>1.50</td>\n",
       "      <td>NaN</td>\n",
       "      <td>iOS</td>\n",
       "      <td>225430</td>\n",
       "    </tr>\n",
       "    <tr>\n",
       "      <th>4228780</th>\n",
       "      <td>151184</td>\n",
       "      <td>search</td>\n",
       "      <td>INTEREST</td>\n",
       "      <td>1.50</td>\n",
       "      <td>NaN</td>\n",
       "      <td>iOS</td>\n",
       "      <td>225688</td>\n",
       "    </tr>\n",
       "  </tbody>\n",
       "</table>\n",
       "<p>4228781 rows × 7 columns</p>\n",
       "</div>"
      ],
      "text/plain": [
       "         user_id ad_channel   funnel_stage  price  profit       os  timestamp\n",
       "0         666743     banner       interest   0.50     NaN  Android     150000\n",
       "1         512217      video       interest   0.75     NaN      iOS     150000\n",
       "2         399556     search       INTEREST   1.50     NaN      iOS     150000\n",
       "3         230119     search       INTEREST   1.50     NaN      iOS     150000\n",
       "4         619571     search  CONSIDERATION   1.50     NaN      iOS     150000\n",
       "...          ...        ...            ...    ...     ...      ...        ...\n",
       "4228776   501946     search         INTENT   1.50     NaN  Android     224125\n",
       "4228777   749577     search       PURCHASE   1.50  2136.0      iOS     224647\n",
       "4228778   929180     search         INTENT   1.50     NaN      iOS     224682\n",
       "4228779  1034498     search         INTENT   1.50     NaN      iOS     225430\n",
       "4228780   151184     search       INTEREST   1.50     NaN      iOS     225688\n",
       "\n",
       "[4228781 rows x 7 columns]"
      ]
     },
     "execution_count": 2,
     "metadata": {},
     "output_type": "execute_result"
    }
   ],
   "source": [
    "df = pd.read_csv('data/advertising_campaign.csv').drop(['Unnamed: 0'], axis = 1)\n",
    "df"
   ]
  },
  {
   "cell_type": "code",
   "execution_count": 3,
   "id": "ff54e36f",
   "metadata": {},
   "outputs": [
    {
     "name": "stdout",
     "output_type": "stream",
     "text": [
      "<class 'pandas.core.frame.DataFrame'>\n",
      "RangeIndex: 4228781 entries, 0 to 4228780\n",
      "Data columns (total 7 columns):\n",
      " #   Column        Non-Null Count    Dtype  \n",
      "---  ------        --------------    -----  \n",
      " 0   user_id       4228781 non-null  int64  \n",
      " 1   ad_channel    4228781 non-null  object \n",
      " 2   funnel_stage  4228781 non-null  object \n",
      " 3   price         4207450 non-null  float64\n",
      " 4   profit        4879 non-null     float64\n",
      " 5   os            4228781 non-null  object \n",
      " 6   timestamp     4228781 non-null  int64  \n",
      "dtypes: float64(2), int64(2), object(3)\n",
      "memory usage: 225.8+ MB\n"
     ]
    }
   ],
   "source": [
    "df.info(show_counts = True)"
   ]
  },
  {
   "cell_type": "markdown",
   "id": "48e54bbb",
   "metadata": {
    "heading_collapsed": true
   },
   "source": [
    "# Data Preparation"
   ]
  },
  {
   "cell_type": "code",
   "execution_count": 4,
   "id": "26f215a2",
   "metadata": {
    "hidden": true
   },
   "outputs": [
    {
     "data": {
      "text/plain": [
       "array(['banner', 'video', 'search', 'rich', 'partner_network',\n",
       "       'organic_traffic', 'native', 'other'], dtype=object)"
      ]
     },
     "execution_count": 4,
     "metadata": {},
     "output_type": "execute_result"
    }
   ],
   "source": [
    "# уникальные значения атрибута ad_channel\n",
    "\n",
    "df['ad_channel'].unique()"
   ]
  },
  {
   "cell_type": "code",
   "execution_count": 5,
   "id": "371837eb",
   "metadata": {
    "hidden": true
   },
   "outputs": [
    {
     "data": {
      "text/plain": [
       "array(['interest', 'INTEREST', 'CONSIDERATION', 'intent', 'INTENT',\n",
       "       'consideration', 'PURCHASE', 'purchase'], dtype=object)"
      ]
     },
     "execution_count": 5,
     "metadata": {},
     "output_type": "execute_result"
    }
   ],
   "source": [
    "# уникальные значения атрибута funnel_stage\n",
    "\n",
    "df['funnel_stage'].unique()"
   ]
  },
  {
   "cell_type": "markdown",
   "id": "641419a1",
   "metadata": {
    "hidden": true
   },
   "source": [
    "В столбце нет единообразия записей, поэтому приведу их к нижнему регистру"
   ]
  },
  {
   "cell_type": "code",
   "execution_count": 6,
   "id": "e4ed2149",
   "metadata": {
    "hidden": true
   },
   "outputs": [
    {
     "data": {
      "text/html": [
       "<div>\n",
       "<style scoped>\n",
       "    .dataframe tbody tr th:only-of-type {\n",
       "        vertical-align: middle;\n",
       "    }\n",
       "\n",
       "    .dataframe tbody tr th {\n",
       "        vertical-align: top;\n",
       "    }\n",
       "\n",
       "    .dataframe thead th {\n",
       "        text-align: right;\n",
       "    }\n",
       "</style>\n",
       "<table border=\"1\" class=\"dataframe\">\n",
       "  <thead>\n",
       "    <tr style=\"text-align: right;\">\n",
       "      <th></th>\n",
       "      <th>user_id</th>\n",
       "      <th>ad_channel</th>\n",
       "      <th>funnel_stage</th>\n",
       "      <th>price</th>\n",
       "      <th>profit</th>\n",
       "      <th>os</th>\n",
       "      <th>timestamp</th>\n",
       "    </tr>\n",
       "  </thead>\n",
       "  <tbody>\n",
       "    <tr>\n",
       "      <th>0</th>\n",
       "      <td>666743</td>\n",
       "      <td>banner</td>\n",
       "      <td>interest</td>\n",
       "      <td>0.50</td>\n",
       "      <td>NaN</td>\n",
       "      <td>Android</td>\n",
       "      <td>150000</td>\n",
       "    </tr>\n",
       "    <tr>\n",
       "      <th>1</th>\n",
       "      <td>512217</td>\n",
       "      <td>video</td>\n",
       "      <td>interest</td>\n",
       "      <td>0.75</td>\n",
       "      <td>NaN</td>\n",
       "      <td>iOS</td>\n",
       "      <td>150000</td>\n",
       "    </tr>\n",
       "    <tr>\n",
       "      <th>2</th>\n",
       "      <td>399556</td>\n",
       "      <td>search</td>\n",
       "      <td>interest</td>\n",
       "      <td>1.50</td>\n",
       "      <td>NaN</td>\n",
       "      <td>iOS</td>\n",
       "      <td>150000</td>\n",
       "    </tr>\n",
       "    <tr>\n",
       "      <th>3</th>\n",
       "      <td>230119</td>\n",
       "      <td>search</td>\n",
       "      <td>interest</td>\n",
       "      <td>1.50</td>\n",
       "      <td>NaN</td>\n",
       "      <td>iOS</td>\n",
       "      <td>150000</td>\n",
       "    </tr>\n",
       "    <tr>\n",
       "      <th>4</th>\n",
       "      <td>619571</td>\n",
       "      <td>search</td>\n",
       "      <td>consideration</td>\n",
       "      <td>1.50</td>\n",
       "      <td>NaN</td>\n",
       "      <td>iOS</td>\n",
       "      <td>150000</td>\n",
       "    </tr>\n",
       "    <tr>\n",
       "      <th>...</th>\n",
       "      <td>...</td>\n",
       "      <td>...</td>\n",
       "      <td>...</td>\n",
       "      <td>...</td>\n",
       "      <td>...</td>\n",
       "      <td>...</td>\n",
       "      <td>...</td>\n",
       "    </tr>\n",
       "    <tr>\n",
       "      <th>4228776</th>\n",
       "      <td>501946</td>\n",
       "      <td>search</td>\n",
       "      <td>intent</td>\n",
       "      <td>1.50</td>\n",
       "      <td>NaN</td>\n",
       "      <td>Android</td>\n",
       "      <td>224125</td>\n",
       "    </tr>\n",
       "    <tr>\n",
       "      <th>4228777</th>\n",
       "      <td>749577</td>\n",
       "      <td>search</td>\n",
       "      <td>purchase</td>\n",
       "      <td>1.50</td>\n",
       "      <td>2136.0</td>\n",
       "      <td>iOS</td>\n",
       "      <td>224647</td>\n",
       "    </tr>\n",
       "    <tr>\n",
       "      <th>4228778</th>\n",
       "      <td>929180</td>\n",
       "      <td>search</td>\n",
       "      <td>intent</td>\n",
       "      <td>1.50</td>\n",
       "      <td>NaN</td>\n",
       "      <td>iOS</td>\n",
       "      <td>224682</td>\n",
       "    </tr>\n",
       "    <tr>\n",
       "      <th>4228779</th>\n",
       "      <td>1034498</td>\n",
       "      <td>search</td>\n",
       "      <td>intent</td>\n",
       "      <td>1.50</td>\n",
       "      <td>NaN</td>\n",
       "      <td>iOS</td>\n",
       "      <td>225430</td>\n",
       "    </tr>\n",
       "    <tr>\n",
       "      <th>4228780</th>\n",
       "      <td>151184</td>\n",
       "      <td>search</td>\n",
       "      <td>interest</td>\n",
       "      <td>1.50</td>\n",
       "      <td>NaN</td>\n",
       "      <td>iOS</td>\n",
       "      <td>225688</td>\n",
       "    </tr>\n",
       "  </tbody>\n",
       "</table>\n",
       "<p>4228781 rows × 7 columns</p>\n",
       "</div>"
      ],
      "text/plain": [
       "         user_id ad_channel   funnel_stage  price  profit       os  timestamp\n",
       "0         666743     banner       interest   0.50     NaN  Android     150000\n",
       "1         512217      video       interest   0.75     NaN      iOS     150000\n",
       "2         399556     search       interest   1.50     NaN      iOS     150000\n",
       "3         230119     search       interest   1.50     NaN      iOS     150000\n",
       "4         619571     search  consideration   1.50     NaN      iOS     150000\n",
       "...          ...        ...            ...    ...     ...      ...        ...\n",
       "4228776   501946     search         intent   1.50     NaN  Android     224125\n",
       "4228777   749577     search       purchase   1.50  2136.0      iOS     224647\n",
       "4228778   929180     search         intent   1.50     NaN      iOS     224682\n",
       "4228779  1034498     search         intent   1.50     NaN      iOS     225430\n",
       "4228780   151184     search       interest   1.50     NaN      iOS     225688\n",
       "\n",
       "[4228781 rows x 7 columns]"
      ]
     },
     "execution_count": 6,
     "metadata": {},
     "output_type": "execute_result"
    }
   ],
   "source": [
    "df['funnel_stage'] = df['funnel_stage'].apply(lambda x: x.lower())\n",
    "df"
   ]
  },
  {
   "cell_type": "code",
   "execution_count": 7,
   "id": "b6b33205",
   "metadata": {
    "hidden": true
   },
   "outputs": [
    {
     "data": {
      "text/plain": [
       "array(['interest', 'consideration', 'intent', 'purchase'], dtype=object)"
      ]
     },
     "execution_count": 7,
     "metadata": {},
     "output_type": "execute_result"
    }
   ],
   "source": [
    "df['funnel_stage'].unique()"
   ]
  },
  {
   "cell_type": "code",
   "execution_count": 8,
   "id": "dac0ae75",
   "metadata": {
    "hidden": true
   },
   "outputs": [
    {
     "data": {
      "text/plain": [
       "user_id               0\n",
       "ad_channel            0\n",
       "funnel_stage          0\n",
       "os                    0\n",
       "timestamp             0\n",
       "price             21331\n",
       "profit          4223902\n",
       "dtype: int64"
      ]
     },
     "execution_count": 8,
     "metadata": {},
     "output_type": "execute_result"
    }
   ],
   "source": [
    "#проверка на пропуски\n",
    "\n",
    "df.isnull().sum().sort_values()"
   ]
  },
  {
   "cell_type": "code",
   "execution_count": 9,
   "id": "77aa393c",
   "metadata": {
    "hidden": true
   },
   "outputs": [
    {
     "data": {
      "text/plain": [
       "<Axes: >"
      ]
     },
     "execution_count": 9,
     "metadata": {},
     "output_type": "execute_result"
    },
    {
     "data": {
      "image/png": "[encoded data removed]",
      "text/plain": [
       "<Figure size 2500x1000 with 2 Axes>"
      ]
     },
     "metadata": {},
     "output_type": "display_data"
    }
   ],
   "source": [
    "msno.matrix(df)"
   ]
  },
  {
   "cell_type": "code",
   "execution_count": 10,
   "id": "9618d04d",
   "metadata": {
    "hidden": true
   },
   "outputs": [
    {
     "data": {
      "text/plain": [
       "profit          99.88\n",
       "price            0.50\n",
       "user_id          0.00\n",
       "ad_channel       0.00\n",
       "funnel_stage     0.00\n",
       "os               0.00\n",
       "timestamp        0.00\n",
       "dtype: float64"
      ]
     },
     "execution_count": 10,
     "metadata": {},
     "output_type": "execute_result"
    }
   ],
   "source": [
    "# количество пропусков в процентах\n",
    "\n",
    "round(((df.isna().sum() / len(df)) * 100).sort_values(ascending = False), 2)"
   ]
  },
  {
   "cell_type": "markdown",
   "id": "f483911a",
   "metadata": {
    "hidden": true
   },
   "source": [
    "Сохраню в отдельную переменную строки с пропусками в столбце price"
   ]
  },
  {
   "cell_type": "code",
   "execution_count": 11,
   "id": "0648c861",
   "metadata": {
    "hidden": true
   },
   "outputs": [
    {
     "data": {
      "text/html": [
       "<div>\n",
       "<style scoped>\n",
       "    .dataframe tbody tr th:only-of-type {\n",
       "        vertical-align: middle;\n",
       "    }\n",
       "\n",
       "    .dataframe tbody tr th {\n",
       "        vertical-align: top;\n",
       "    }\n",
       "\n",
       "    .dataframe thead th {\n",
       "        text-align: right;\n",
       "    }\n",
       "</style>\n",
       "<table border=\"1\" class=\"dataframe\">\n",
       "  <thead>\n",
       "    <tr style=\"text-align: right;\">\n",
       "      <th></th>\n",
       "      <th>user_id</th>\n",
       "      <th>ad_channel</th>\n",
       "      <th>funnel_stage</th>\n",
       "      <th>price</th>\n",
       "      <th>profit</th>\n",
       "      <th>os</th>\n",
       "      <th>timestamp</th>\n",
       "    </tr>\n",
       "  </thead>\n",
       "  <tbody>\n",
       "    <tr>\n",
       "      <th>122</th>\n",
       "      <td>866112</td>\n",
       "      <td>other</td>\n",
       "      <td>interest</td>\n",
       "      <td>NaN</td>\n",
       "      <td>NaN</td>\n",
       "      <td>Android</td>\n",
       "      <td>150009</td>\n",
       "    </tr>\n",
       "    <tr>\n",
       "      <th>197</th>\n",
       "      <td>634356</td>\n",
       "      <td>other</td>\n",
       "      <td>interest</td>\n",
       "      <td>NaN</td>\n",
       "      <td>NaN</td>\n",
       "      <td>iOS</td>\n",
       "      <td>150014</td>\n",
       "    </tr>\n",
       "    <tr>\n",
       "      <th>2149</th>\n",
       "      <td>160340</td>\n",
       "      <td>other</td>\n",
       "      <td>interest</td>\n",
       "      <td>NaN</td>\n",
       "      <td>NaN</td>\n",
       "      <td>Android</td>\n",
       "      <td>150030</td>\n",
       "    </tr>\n",
       "    <tr>\n",
       "      <th>2668</th>\n",
       "      <td>1004246</td>\n",
       "      <td>other</td>\n",
       "      <td>interest</td>\n",
       "      <td>NaN</td>\n",
       "      <td>NaN</td>\n",
       "      <td>Android</td>\n",
       "      <td>150036</td>\n",
       "    </tr>\n",
       "    <tr>\n",
       "      <th>2969</th>\n",
       "      <td>897963</td>\n",
       "      <td>other</td>\n",
       "      <td>interest</td>\n",
       "      <td>NaN</td>\n",
       "      <td>NaN</td>\n",
       "      <td>Android</td>\n",
       "      <td>150048</td>\n",
       "    </tr>\n",
       "  </tbody>\n",
       "</table>\n",
       "</div>"
      ],
      "text/plain": [
       "      user_id ad_channel funnel_stage  price  profit       os  timestamp\n",
       "122    866112      other     interest    NaN     NaN  Android     150009\n",
       "197    634356      other     interest    NaN     NaN      iOS     150014\n",
       "2149   160340      other     interest    NaN     NaN  Android     150030\n",
       "2668  1004246      other     interest    NaN     NaN  Android     150036\n",
       "2969   897963      other     interest    NaN     NaN  Android     150048"
      ]
     },
     "execution_count": 11,
     "metadata": {},
     "output_type": "execute_result"
    }
   ],
   "source": [
    "#отдельный датафрейм с пропусками в price\n",
    "\n",
    "df_price_isnull = df[df['price'].isnull()] #был df_ad_channel_other\n",
    "df_price_isnull.head()"
   ]
  },
  {
   "cell_type": "code",
   "execution_count": 12,
   "id": "e73ed8d9",
   "metadata": {
    "hidden": true
   },
   "outputs": [
    {
     "data": {
      "text/plain": [
       "(21331, 7)"
      ]
     },
     "execution_count": 12,
     "metadata": {},
     "output_type": "execute_result"
    }
   ],
   "source": [
    "df_price_isnull.shape"
   ]
  },
  {
   "cell_type": "code",
   "execution_count": 13,
   "id": "f93defdd",
   "metadata": {
    "hidden": true
   },
   "outputs": [
    {
     "data": {
      "text/plain": [
       "array(['other'], dtype=object)"
      ]
     },
     "execution_count": 13,
     "metadata": {},
     "output_type": "execute_result"
    }
   ],
   "source": [
    "# вывод уникальных значений ad_channel для строк с пропусками в price\n",
    "\n",
    "df_price_isnull['ad_channel'].unique()"
   ]
  },
  {
   "cell_type": "code",
   "execution_count": 14,
   "id": "af825411",
   "metadata": {
    "hidden": true
   },
   "outputs": [
    {
     "data": {
      "text/html": [
       "<div>\n",
       "<style scoped>\n",
       "    .dataframe tbody tr th:only-of-type {\n",
       "        vertical-align: middle;\n",
       "    }\n",
       "\n",
       "    .dataframe tbody tr th {\n",
       "        vertical-align: top;\n",
       "    }\n",
       "\n",
       "    .dataframe thead th {\n",
       "        text-align: right;\n",
       "    }\n",
       "</style>\n",
       "<table border=\"1\" class=\"dataframe\">\n",
       "  <thead>\n",
       "    <tr style=\"text-align: right;\">\n",
       "      <th></th>\n",
       "      <th>user_id</th>\n",
       "      <th>ad_channel</th>\n",
       "      <th>funnel_stage</th>\n",
       "      <th>price</th>\n",
       "      <th>profit</th>\n",
       "      <th>os</th>\n",
       "      <th>timestamp</th>\n",
       "    </tr>\n",
       "  </thead>\n",
       "  <tbody>\n",
       "    <tr>\n",
       "      <th>122</th>\n",
       "      <td>866112</td>\n",
       "      <td>other</td>\n",
       "      <td>interest</td>\n",
       "      <td>NaN</td>\n",
       "      <td>NaN</td>\n",
       "      <td>Android</td>\n",
       "      <td>150009</td>\n",
       "    </tr>\n",
       "    <tr>\n",
       "      <th>197</th>\n",
       "      <td>634356</td>\n",
       "      <td>other</td>\n",
       "      <td>interest</td>\n",
       "      <td>NaN</td>\n",
       "      <td>NaN</td>\n",
       "      <td>iOS</td>\n",
       "      <td>150014</td>\n",
       "    </tr>\n",
       "    <tr>\n",
       "      <th>2149</th>\n",
       "      <td>160340</td>\n",
       "      <td>other</td>\n",
       "      <td>interest</td>\n",
       "      <td>NaN</td>\n",
       "      <td>NaN</td>\n",
       "      <td>Android</td>\n",
       "      <td>150030</td>\n",
       "    </tr>\n",
       "    <tr>\n",
       "      <th>2668</th>\n",
       "      <td>1004246</td>\n",
       "      <td>other</td>\n",
       "      <td>interest</td>\n",
       "      <td>NaN</td>\n",
       "      <td>NaN</td>\n",
       "      <td>Android</td>\n",
       "      <td>150036</td>\n",
       "    </tr>\n",
       "    <tr>\n",
       "      <th>2969</th>\n",
       "      <td>897963</td>\n",
       "      <td>other</td>\n",
       "      <td>interest</td>\n",
       "      <td>NaN</td>\n",
       "      <td>NaN</td>\n",
       "      <td>Android</td>\n",
       "      <td>150048</td>\n",
       "    </tr>\n",
       "  </tbody>\n",
       "</table>\n",
       "</div>"
      ],
      "text/plain": [
       "      user_id ad_channel funnel_stage  price  profit       os  timestamp\n",
       "122    866112      other     interest    NaN     NaN  Android     150009\n",
       "197    634356      other     interest    NaN     NaN      iOS     150014\n",
       "2149   160340      other     interest    NaN     NaN  Android     150030\n",
       "2668  1004246      other     interest    NaN     NaN  Android     150036\n",
       "2969   897963      other     interest    NaN     NaN  Android     150048"
      ]
     },
     "execution_count": 14,
     "metadata": {},
     "output_type": "execute_result"
    }
   ],
   "source": [
    "df[df['ad_channel'] == 'other'].head()"
   ]
  },
  {
   "cell_type": "code",
   "execution_count": 15,
   "id": "8f149fc7",
   "metadata": {
    "hidden": true
   },
   "outputs": [
    {
     "data": {
      "text/plain": [
       "(21331, 7)"
      ]
     },
     "execution_count": 15,
     "metadata": {},
     "output_type": "execute_result"
    }
   ],
   "source": [
    "df[df['ad_channel'] == 'other'].shape"
   ]
  },
  {
   "cell_type": "code",
   "execution_count": 16,
   "id": "3b08f605",
   "metadata": {
    "hidden": true
   },
   "outputs": [],
   "source": [
    "#удалю строки с price = other\n",
    "\n",
    "df_campaign = df[df['ad_channel'] != 'other'].copy()"
   ]
  },
  {
   "cell_type": "code",
   "execution_count": 17,
   "id": "03b66e92",
   "metadata": {
    "hidden": true
   },
   "outputs": [
    {
     "data": {
      "text/plain": [
       "array(['interest', 'consideration', 'intent', 'purchase'], dtype=object)"
      ]
     },
     "execution_count": 17,
     "metadata": {},
     "output_type": "execute_result"
    }
   ],
   "source": [
    "df_campaign.funnel_stage.unique()"
   ]
  },
  {
   "cell_type": "markdown",
   "id": "e57e6d56",
   "metadata": {
    "hidden": true
   },
   "source": [
    "Предположительно, пропуски в колонке profit находятся в тех строках, которые соответсвуют этапам воронки != purchase (покупка), т.к. получить прибыль можно только на этапе покупки. Проверю это"
   ]
  },
  {
   "cell_type": "code",
   "execution_count": 18,
   "id": "f890c9df",
   "metadata": {
    "hidden": true
   },
   "outputs": [
    {
     "data": {
      "text/plain": [
       "user_id         0\n",
       "ad_channel      0\n",
       "funnel_stage    0\n",
       "price           0\n",
       "profit          0\n",
       "os              0\n",
       "timestamp       0\n",
       "dtype: int64"
      ]
     },
     "execution_count": 18,
     "metadata": {},
     "output_type": "execute_result"
    }
   ],
   "source": [
    "df_campaign[df_campaign['funnel_stage'] == 'purchase'].isnull().sum().sort_values()"
   ]
  },
  {
   "cell_type": "code",
   "execution_count": 19,
   "id": "ed786137",
   "metadata": {
    "hidden": true
   },
   "outputs": [
    {
     "data": {
      "text/plain": [
       "(4835, 7)"
      ]
     },
     "execution_count": 19,
     "metadata": {},
     "output_type": "execute_result"
    }
   ],
   "source": [
    "df_campaign[df_campaign['funnel_stage'] == 'purchase'].shape"
   ]
  },
  {
   "cell_type": "code",
   "execution_count": 20,
   "id": "defc9069",
   "metadata": {
    "hidden": true
   },
   "outputs": [
    {
     "data": {
      "text/plain": [
       "(4202615, 7)"
      ]
     },
     "execution_count": 20,
     "metadata": {},
     "output_type": "execute_result"
    }
   ],
   "source": [
    "df_campaign[df_campaign['profit'].isnull()].shape"
   ]
  },
  {
   "cell_type": "code",
   "execution_count": 21,
   "id": "d713a1d5",
   "metadata": {
    "hidden": true
   },
   "outputs": [
    {
     "data": {
      "text/plain": [
       "(4207450, 7)"
      ]
     },
     "execution_count": 21,
     "metadata": {},
     "output_type": "execute_result"
    }
   ],
   "source": [
    "df_campaign.shape"
   ]
  },
  {
   "cell_type": "code",
   "execution_count": 22,
   "id": "750a8b88",
   "metadata": {
    "hidden": true
   },
   "outputs": [
    {
     "data": {
      "text/plain": [
       "4835"
      ]
     },
     "execution_count": 22,
     "metadata": {},
     "output_type": "execute_result"
    }
   ],
   "source": [
    "4207450-4202615"
   ]
  },
  {
   "cell_type": "code",
   "execution_count": 23,
   "id": "578842e6",
   "metadata": {
    "hidden": true
   },
   "outputs": [],
   "source": [
    "#пропуски в столбце profit заменю на 0, т.к. прибыль возможна только на этапе покупки, а в таблице строки по всей воронке\n",
    "\n",
    "df_campaign['profit'] = df_campaign['profit'].fillna(0.0)"
   ]
  },
  {
   "cell_type": "code",
   "execution_count": 24,
   "id": "d39e0b77",
   "metadata": {
    "hidden": true
   },
   "outputs": [
    {
     "data": {
      "text/plain": [
       "user_id         0\n",
       "ad_channel      0\n",
       "funnel_stage    0\n",
       "price           0\n",
       "profit          0\n",
       "os              0\n",
       "timestamp       0\n",
       "dtype: int64"
      ]
     },
     "execution_count": 24,
     "metadata": {},
     "output_type": "execute_result"
    }
   ],
   "source": [
    "df_campaign.isnull().sum().sort_values()"
   ]
  },
  {
   "cell_type": "markdown",
   "id": "39e5dd6e",
   "metadata": {
    "heading_collapsed": true
   },
   "source": [
    "# Количество уникальных user_id по этапам воронки"
   ]
  },
  {
   "cell_type": "code",
   "execution_count": 25,
   "id": "741f18e8",
   "metadata": {
    "hidden": true
   },
   "outputs": [],
   "source": [
    "# правильный порядок этапов воронки\n",
    "\n",
    "funnel_stage_order = ['interest', 'consideration', 'intent', 'purchase']"
   ]
  },
  {
   "cell_type": "code",
   "execution_count": 26,
   "id": "60f2c6d8",
   "metadata": {
    "hidden": true
   },
   "outputs": [
    {
     "data": {
      "text/html": [
       "<div>\n",
       "<style scoped>\n",
       "    .dataframe tbody tr th:only-of-type {\n",
       "        vertical-align: middle;\n",
       "    }\n",
       "\n",
       "    .dataframe tbody tr th {\n",
       "        vertical-align: top;\n",
       "    }\n",
       "\n",
       "    .dataframe thead th {\n",
       "        text-align: right;\n",
       "    }\n",
       "</style>\n",
       "<table border=\"1\" class=\"dataframe\">\n",
       "  <thead>\n",
       "    <tr style=\"text-align: right;\">\n",
       "      <th></th>\n",
       "      <th>user_id</th>\n",
       "      <th>ad_channel</th>\n",
       "      <th>funnel_stage</th>\n",
       "      <th>price</th>\n",
       "      <th>profit</th>\n",
       "      <th>os</th>\n",
       "      <th>timestamp</th>\n",
       "    </tr>\n",
       "  </thead>\n",
       "  <tbody>\n",
       "    <tr>\n",
       "      <th>0</th>\n",
       "      <td>666743</td>\n",
       "      <td>banner</td>\n",
       "      <td>interest</td>\n",
       "      <td>0.50</td>\n",
       "      <td>0.0</td>\n",
       "      <td>Android</td>\n",
       "      <td>150000</td>\n",
       "    </tr>\n",
       "    <tr>\n",
       "      <th>1</th>\n",
       "      <td>512217</td>\n",
       "      <td>video</td>\n",
       "      <td>interest</td>\n",
       "      <td>0.75</td>\n",
       "      <td>0.0</td>\n",
       "      <td>iOS</td>\n",
       "      <td>150000</td>\n",
       "    </tr>\n",
       "    <tr>\n",
       "      <th>2</th>\n",
       "      <td>399556</td>\n",
       "      <td>search</td>\n",
       "      <td>interest</td>\n",
       "      <td>1.50</td>\n",
       "      <td>0.0</td>\n",
       "      <td>iOS</td>\n",
       "      <td>150000</td>\n",
       "    </tr>\n",
       "    <tr>\n",
       "      <th>3</th>\n",
       "      <td>230119</td>\n",
       "      <td>search</td>\n",
       "      <td>interest</td>\n",
       "      <td>1.50</td>\n",
       "      <td>0.0</td>\n",
       "      <td>iOS</td>\n",
       "      <td>150000</td>\n",
       "    </tr>\n",
       "    <tr>\n",
       "      <th>4</th>\n",
       "      <td>619571</td>\n",
       "      <td>search</td>\n",
       "      <td>consideration</td>\n",
       "      <td>1.50</td>\n",
       "      <td>0.0</td>\n",
       "      <td>iOS</td>\n",
       "      <td>150000</td>\n",
       "    </tr>\n",
       "    <tr>\n",
       "      <th>...</th>\n",
       "      <td>...</td>\n",
       "      <td>...</td>\n",
       "      <td>...</td>\n",
       "      <td>...</td>\n",
       "      <td>...</td>\n",
       "      <td>...</td>\n",
       "      <td>...</td>\n",
       "    </tr>\n",
       "    <tr>\n",
       "      <th>4228776</th>\n",
       "      <td>501946</td>\n",
       "      <td>search</td>\n",
       "      <td>intent</td>\n",
       "      <td>1.50</td>\n",
       "      <td>0.0</td>\n",
       "      <td>Android</td>\n",
       "      <td>224125</td>\n",
       "    </tr>\n",
       "    <tr>\n",
       "      <th>4228777</th>\n",
       "      <td>749577</td>\n",
       "      <td>search</td>\n",
       "      <td>purchase</td>\n",
       "      <td>1.50</td>\n",
       "      <td>2136.0</td>\n",
       "      <td>iOS</td>\n",
       "      <td>224647</td>\n",
       "    </tr>\n",
       "    <tr>\n",
       "      <th>4228778</th>\n",
       "      <td>929180</td>\n",
       "      <td>search</td>\n",
       "      <td>intent</td>\n",
       "      <td>1.50</td>\n",
       "      <td>0.0</td>\n",
       "      <td>iOS</td>\n",
       "      <td>224682</td>\n",
       "    </tr>\n",
       "    <tr>\n",
       "      <th>4228779</th>\n",
       "      <td>1034498</td>\n",
       "      <td>search</td>\n",
       "      <td>intent</td>\n",
       "      <td>1.50</td>\n",
       "      <td>0.0</td>\n",
       "      <td>iOS</td>\n",
       "      <td>225430</td>\n",
       "    </tr>\n",
       "    <tr>\n",
       "      <th>4228780</th>\n",
       "      <td>151184</td>\n",
       "      <td>search</td>\n",
       "      <td>interest</td>\n",
       "      <td>1.50</td>\n",
       "      <td>0.0</td>\n",
       "      <td>iOS</td>\n",
       "      <td>225688</td>\n",
       "    </tr>\n",
       "  </tbody>\n",
       "</table>\n",
       "<p>4207450 rows × 7 columns</p>\n",
       "</div>"
      ],
      "text/plain": [
       "         user_id ad_channel   funnel_stage  price  profit       os  timestamp\n",
       "0         666743     banner       interest   0.50     0.0  Android     150000\n",
       "1         512217      video       interest   0.75     0.0      iOS     150000\n",
       "2         399556     search       interest   1.50     0.0      iOS     150000\n",
       "3         230119     search       interest   1.50     0.0      iOS     150000\n",
       "4         619571     search  consideration   1.50     0.0      iOS     150000\n",
       "...          ...        ...            ...    ...     ...      ...        ...\n",
       "4228776   501946     search         intent   1.50     0.0  Android     224125\n",
       "4228777   749577     search       purchase   1.50  2136.0      iOS     224647\n",
       "4228778   929180     search         intent   1.50     0.0      iOS     224682\n",
       "4228779  1034498     search         intent   1.50     0.0      iOS     225430\n",
       "4228780   151184     search       interest   1.50     0.0      iOS     225688\n",
       "\n",
       "[4207450 rows x 7 columns]"
      ]
     },
     "execution_count": 26,
     "metadata": {},
     "output_type": "execute_result"
    }
   ],
   "source": [
    "# упорядочивание этапов воронки в датасете\n",
    "\n",
    "df_campaign['funnel_stage'] = pd.Categorical(df_campaign['funnel_stage'], categories=funnel_stage_order, ordered=True)\n",
    "df_campaign"
   ]
  },
  {
   "cell_type": "code",
   "execution_count": 27,
   "id": "c708f926",
   "metadata": {
    "hidden": true
   },
   "outputs": [
    {
     "data": {
      "text/html": [
       "<div>\n",
       "<style scoped>\n",
       "    .dataframe tbody tr th:only-of-type {\n",
       "        vertical-align: middle;\n",
       "    }\n",
       "\n",
       "    .dataframe tbody tr th {\n",
       "        vertical-align: top;\n",
       "    }\n",
       "\n",
       "    .dataframe thead th {\n",
       "        text-align: right;\n",
       "    }\n",
       "</style>\n",
       "<table border=\"1\" class=\"dataframe\">\n",
       "  <thead>\n",
       "    <tr style=\"text-align: right;\">\n",
       "      <th></th>\n",
       "      <th>ad_channel</th>\n",
       "      <th>funnel_stage</th>\n",
       "      <th>user_id</th>\n",
       "      <th>cr</th>\n",
       "    </tr>\n",
       "  </thead>\n",
       "  <tbody>\n",
       "    <tr>\n",
       "      <th>0</th>\n",
       "      <td>banner</td>\n",
       "      <td>interest</td>\n",
       "      <td>92002</td>\n",
       "      <td>100.00</td>\n",
       "    </tr>\n",
       "    <tr>\n",
       "      <th>1</th>\n",
       "      <td>banner</td>\n",
       "      <td>consideration</td>\n",
       "      <td>47454</td>\n",
       "      <td>51.58</td>\n",
       "    </tr>\n",
       "    <tr>\n",
       "      <th>2</th>\n",
       "      <td>banner</td>\n",
       "      <td>intent</td>\n",
       "      <td>7630</td>\n",
       "      <td>8.29</td>\n",
       "    </tr>\n",
       "    <tr>\n",
       "      <th>3</th>\n",
       "      <td>banner</td>\n",
       "      <td>purchase</td>\n",
       "      <td>690</td>\n",
       "      <td>0.75</td>\n",
       "    </tr>\n",
       "    <tr>\n",
       "      <th>4</th>\n",
       "      <td>native</td>\n",
       "      <td>interest</td>\n",
       "      <td>19382</td>\n",
       "      <td>100.00</td>\n",
       "    </tr>\n",
       "    <tr>\n",
       "      <th>5</th>\n",
       "      <td>native</td>\n",
       "      <td>consideration</td>\n",
       "      <td>12585</td>\n",
       "      <td>64.93</td>\n",
       "    </tr>\n",
       "    <tr>\n",
       "      <th>6</th>\n",
       "      <td>native</td>\n",
       "      <td>intent</td>\n",
       "      <td>411</td>\n",
       "      <td>2.12</td>\n",
       "    </tr>\n",
       "    <tr>\n",
       "      <th>7</th>\n",
       "      <td>native</td>\n",
       "      <td>purchase</td>\n",
       "      <td>36</td>\n",
       "      <td>0.19</td>\n",
       "    </tr>\n",
       "    <tr>\n",
       "      <th>8</th>\n",
       "      <td>organic_traffic</td>\n",
       "      <td>interest</td>\n",
       "      <td>78719</td>\n",
       "      <td>100.00</td>\n",
       "    </tr>\n",
       "    <tr>\n",
       "      <th>9</th>\n",
       "      <td>organic_traffic</td>\n",
       "      <td>consideration</td>\n",
       "      <td>53618</td>\n",
       "      <td>68.11</td>\n",
       "    </tr>\n",
       "    <tr>\n",
       "      <th>10</th>\n",
       "      <td>organic_traffic</td>\n",
       "      <td>intent</td>\n",
       "      <td>9164</td>\n",
       "      <td>11.64</td>\n",
       "    </tr>\n",
       "    <tr>\n",
       "      <th>11</th>\n",
       "      <td>organic_traffic</td>\n",
       "      <td>purchase</td>\n",
       "      <td>540</td>\n",
       "      <td>0.69</td>\n",
       "    </tr>\n",
       "    <tr>\n",
       "      <th>12</th>\n",
       "      <td>partner_network</td>\n",
       "      <td>interest</td>\n",
       "      <td>66226</td>\n",
       "      <td>100.00</td>\n",
       "    </tr>\n",
       "    <tr>\n",
       "      <th>13</th>\n",
       "      <td>partner_network</td>\n",
       "      <td>consideration</td>\n",
       "      <td>24737</td>\n",
       "      <td>37.35</td>\n",
       "    </tr>\n",
       "    <tr>\n",
       "      <th>14</th>\n",
       "      <td>partner_network</td>\n",
       "      <td>intent</td>\n",
       "      <td>4422</td>\n",
       "      <td>6.68</td>\n",
       "    </tr>\n",
       "    <tr>\n",
       "      <th>15</th>\n",
       "      <td>partner_network</td>\n",
       "      <td>purchase</td>\n",
       "      <td>453</td>\n",
       "      <td>0.68</td>\n",
       "    </tr>\n",
       "    <tr>\n",
       "      <th>16</th>\n",
       "      <td>rich</td>\n",
       "      <td>interest</td>\n",
       "      <td>8921</td>\n",
       "      <td>100.00</td>\n",
       "    </tr>\n",
       "    <tr>\n",
       "      <th>17</th>\n",
       "      <td>rich</td>\n",
       "      <td>consideration</td>\n",
       "      <td>4658</td>\n",
       "      <td>52.21</td>\n",
       "    </tr>\n",
       "    <tr>\n",
       "      <th>18</th>\n",
       "      <td>rich</td>\n",
       "      <td>intent</td>\n",
       "      <td>1238</td>\n",
       "      <td>13.88</td>\n",
       "    </tr>\n",
       "    <tr>\n",
       "      <th>19</th>\n",
       "      <td>rich</td>\n",
       "      <td>purchase</td>\n",
       "      <td>21</td>\n",
       "      <td>0.24</td>\n",
       "    </tr>\n",
       "    <tr>\n",
       "      <th>20</th>\n",
       "      <td>search</td>\n",
       "      <td>interest</td>\n",
       "      <td>224668</td>\n",
       "      <td>100.00</td>\n",
       "    </tr>\n",
       "    <tr>\n",
       "      <th>21</th>\n",
       "      <td>search</td>\n",
       "      <td>consideration</td>\n",
       "      <td>134305</td>\n",
       "      <td>59.78</td>\n",
       "    </tr>\n",
       "    <tr>\n",
       "      <th>22</th>\n",
       "      <td>search</td>\n",
       "      <td>intent</td>\n",
       "      <td>27481</td>\n",
       "      <td>12.23</td>\n",
       "    </tr>\n",
       "    <tr>\n",
       "      <th>23</th>\n",
       "      <td>search</td>\n",
       "      <td>purchase</td>\n",
       "      <td>3090</td>\n",
       "      <td>1.38</td>\n",
       "    </tr>\n",
       "    <tr>\n",
       "      <th>24</th>\n",
       "      <td>video</td>\n",
       "      <td>interest</td>\n",
       "      <td>97964</td>\n",
       "      <td>100.00</td>\n",
       "    </tr>\n",
       "    <tr>\n",
       "      <th>25</th>\n",
       "      <td>video</td>\n",
       "      <td>consideration</td>\n",
       "      <td>60876</td>\n",
       "      <td>62.14</td>\n",
       "    </tr>\n",
       "    <tr>\n",
       "      <th>26</th>\n",
       "      <td>video</td>\n",
       "      <td>intent</td>\n",
       "      <td>58</td>\n",
       "      <td>0.06</td>\n",
       "    </tr>\n",
       "    <tr>\n",
       "      <th>27</th>\n",
       "      <td>video</td>\n",
       "      <td>purchase</td>\n",
       "      <td>5</td>\n",
       "      <td>0.01</td>\n",
       "    </tr>\n",
       "  </tbody>\n",
       "</table>\n",
       "</div>"
      ],
      "text/plain": [
       "         ad_channel   funnel_stage  user_id      cr\n",
       "0            banner       interest    92002  100.00\n",
       "1            banner  consideration    47454   51.58\n",
       "2            banner         intent     7630    8.29\n",
       "3            banner       purchase      690    0.75\n",
       "4            native       interest    19382  100.00\n",
       "5            native  consideration    12585   64.93\n",
       "6            native         intent      411    2.12\n",
       "7            native       purchase       36    0.19\n",
       "8   organic_traffic       interest    78719  100.00\n",
       "9   organic_traffic  consideration    53618   68.11\n",
       "10  organic_traffic         intent     9164   11.64\n",
       "11  organic_traffic       purchase      540    0.69\n",
       "12  partner_network       interest    66226  100.00\n",
       "13  partner_network  consideration    24737   37.35\n",
       "14  partner_network         intent     4422    6.68\n",
       "15  partner_network       purchase      453    0.68\n",
       "16             rich       interest     8921  100.00\n",
       "17             rich  consideration     4658   52.21\n",
       "18             rich         intent     1238   13.88\n",
       "19             rich       purchase       21    0.24\n",
       "20           search       interest   224668  100.00\n",
       "21           search  consideration   134305   59.78\n",
       "22           search         intent    27481   12.23\n",
       "23           search       purchase     3090    1.38\n",
       "24            video       interest    97964  100.00\n",
       "25            video  consideration    60876   62.14\n",
       "26            video         intent       58    0.06\n",
       "27            video       purchase        5    0.01"
      ]
     },
     "execution_count": 27,
     "metadata": {},
     "output_type": "execute_result"
    }
   ],
   "source": [
    "df_uniq_user = df_campaign.groupby(['ad_channel', 'funnel_stage'], observed=True).agg({'user_id': 'nunique'}).reset_index()\n",
    "df_uniq_user = df_uniq_user.sort_values(['ad_channel', 'funnel_stage'])\n",
    "df_uniq_user['cr'] = df_uniq_user.groupby('ad_channel')['user_id'].transform(lambda x: round((x / x.iloc[0])*100, 2))\n",
    "\n",
    "df_uniq_user"
   ]
  },
  {
   "cell_type": "markdown",
   "id": "c7d97d96",
   "metadata": {
    "hidden": true
   },
   "source": [
    "Для всех рекламнх источников на первых этапах воронки (interest, consideration) характерен высокий трафик. Но при этом до финального этапа доходит минимальное число пользователей. Это может свидетельствовать либо о неверно выбранной аудитории для рекламы, либо о фродовом трафике.\n",
    "\n",
    "Наиболее подозрительными каналами являются video и native, где при огромном количестве заинтересованных пользователей до покупки доходит лишь несколько десятков или единиц. Это может указывать на накликивание и требует дополнительной проверки"
   ]
  },
  {
   "cell_type": "markdown",
   "id": "e4eba1c3",
   "metadata": {
    "heading_collapsed": true
   },
   "source": [
    "# Анализ на фальсификацию"
   ]
  },
  {
   "cell_type": "markdown",
   "id": "7312a49d",
   "metadata": {
    "hidden": true
   },
   "source": [
    "Подсчет количества действий, сделанных пользователем в момент времени "
   ]
  },
  {
   "cell_type": "code",
   "execution_count": 28,
   "id": "3e92fff1",
   "metadata": {
    "hidden": true
   },
   "outputs": [
    {
     "data": {
      "text/html": [
       "<div>\n",
       "<style scoped>\n",
       "    .dataframe tbody tr th:only-of-type {\n",
       "        vertical-align: middle;\n",
       "    }\n",
       "\n",
       "    .dataframe tbody tr th {\n",
       "        vertical-align: top;\n",
       "    }\n",
       "\n",
       "    .dataframe thead th {\n",
       "        text-align: right;\n",
       "    }\n",
       "</style>\n",
       "<table border=\"1\" class=\"dataframe\">\n",
       "  <thead>\n",
       "    <tr style=\"text-align: right;\">\n",
       "      <th></th>\n",
       "      <th>user_id</th>\n",
       "      <th>timestamp</th>\n",
       "      <th>ad_channel</th>\n",
       "      <th>action_count</th>\n",
       "    </tr>\n",
       "  </thead>\n",
       "  <tbody>\n",
       "    <tr>\n",
       "      <th>0</th>\n",
       "      <td>2</td>\n",
       "      <td>184320</td>\n",
       "      <td>search</td>\n",
       "      <td>1</td>\n",
       "    </tr>\n",
       "    <tr>\n",
       "      <th>1</th>\n",
       "      <td>3</td>\n",
       "      <td>171761</td>\n",
       "      <td>search</td>\n",
       "      <td>1</td>\n",
       "    </tr>\n",
       "    <tr>\n",
       "      <th>2</th>\n",
       "      <td>4</td>\n",
       "      <td>183254</td>\n",
       "      <td>organic_traffic</td>\n",
       "      <td>555</td>\n",
       "    </tr>\n",
       "    <tr>\n",
       "      <th>3</th>\n",
       "      <td>5</td>\n",
       "      <td>153069</td>\n",
       "      <td>organic_traffic</td>\n",
       "      <td>1</td>\n",
       "    </tr>\n",
       "    <tr>\n",
       "      <th>4</th>\n",
       "      <td>5</td>\n",
       "      <td>153692</td>\n",
       "      <td>organic_traffic</td>\n",
       "      <td>1</td>\n",
       "    </tr>\n",
       "  </tbody>\n",
       "</table>\n",
       "</div>"
      ],
      "text/plain": [
       "   user_id  timestamp       ad_channel  action_count\n",
       "0        2     184320           search             1\n",
       "1        3     171761           search             1\n",
       "2        4     183254  organic_traffic           555\n",
       "3        5     153069  organic_traffic             1\n",
       "4        5     153692  organic_traffic             1"
      ]
     },
     "execution_count": 28,
     "metadata": {},
     "output_type": "execute_result"
    }
   ],
   "source": [
    "df_users_action = df_campaign.groupby(['user_id', 'timestamp', 'ad_channel']).size().reset_index(name='action_count')\n",
    "df_users_action.head()"
   ]
  },
  {
   "cell_type": "code",
   "execution_count": 32,
   "id": "eb988494",
   "metadata": {
    "hidden": true
   },
   "outputs": [
    {
     "data": {
      "text/plain": [
       "count    983355.000000\n",
       "mean          4.278668\n",
       "std          43.333767\n",
       "min           1.000000\n",
       "25%           1.000000\n",
       "50%           1.000000\n",
       "75%           1.000000\n",
       "max        1192.000000\n",
       "Name: action_count, dtype: float64"
      ]
     },
     "execution_count": 32,
     "metadata": {},
     "output_type": "execute_result"
    }
   ],
   "source": [
    "df_users_action.action_count.describe()"
   ]
  },
  {
   "cell_type": "code",
   "execution_count": 120,
   "id": "bb2d65ce",
   "metadata": {
    "hidden": true
   },
   "outputs": [
    {
     "data": {
      "image/png": "[encoded data removed]",
      "text/plain": [
       "<Figure size 640x480 with 1 Axes>"
      ]
     },
     "metadata": {},
     "output_type": "display_data"
    }
   ],
   "source": [
    "plt.hist(df_users_action.action_count, bins=100)\n",
    "plt.xlim(0, 2000)\n",
    "plt.ylim(0, 1000)\n",
    "plt.xlabel('Значения')\n",
    "plt.ylabel('Частота')\n",
    "plt.title('Гистограмма числа действий пользователей в один момент времени');"
   ]
  },
  {
   "cell_type": "markdown",
   "id": "61107fbc",
   "metadata": {
    "hidden": true
   },
   "source": [
    "Для нормального поведения реального пользователя характерно одно действие в момент времени. Статистики по полученному датасету с подсчетом действий показывают, что есть случаи, когда в один момент времени совершено до 1192 действий. Это также отражено на гистограмме и говорит о том, что данные по некоторым каналам были сфальсифицированы"
   ]
  },
  {
   "cell_type": "code",
   "execution_count": 35,
   "id": "2751e404",
   "metadata": {
    "hidden": true
   },
   "outputs": [
    {
     "name": "stdout",
     "output_type": "stream",
     "text": [
      "Количество сфальсифицированных уникальных user_id: 5738\n"
     ]
    }
   ],
   "source": [
    "df_users_action_frod = df_users_action[df_users_action['action_count'] > 1]\n",
    "print('Количество сфальсифицированных уникальных user_id:', df_users_action_frod.shape[0])"
   ]
  },
  {
   "cell_type": "code",
   "execution_count": 36,
   "id": "0b6b3c1b",
   "metadata": {
    "hidden": true
   },
   "outputs": [
    {
     "data": {
      "text/html": [
       "<div>\n",
       "<style scoped>\n",
       "    .dataframe tbody tr th:only-of-type {\n",
       "        vertical-align: middle;\n",
       "    }\n",
       "\n",
       "    .dataframe tbody tr th {\n",
       "        vertical-align: top;\n",
       "    }\n",
       "\n",
       "    .dataframe thead th {\n",
       "        text-align: right;\n",
       "    }\n",
       "</style>\n",
       "<table border=\"1\" class=\"dataframe\">\n",
       "  <thead>\n",
       "    <tr style=\"text-align: right;\">\n",
       "      <th></th>\n",
       "      <th>user_id</th>\n",
       "      <th>ad_channel</th>\n",
       "      <th>funnel_stage</th>\n",
       "      <th>price</th>\n",
       "      <th>profit</th>\n",
       "      <th>os</th>\n",
       "      <th>timestamp</th>\n",
       "    </tr>\n",
       "  </thead>\n",
       "  <tbody>\n",
       "    <tr>\n",
       "      <th>0</th>\n",
       "      <td>666743</td>\n",
       "      <td>banner</td>\n",
       "      <td>interest</td>\n",
       "      <td>0.50</td>\n",
       "      <td>0.0</td>\n",
       "      <td>Android</td>\n",
       "      <td>150000</td>\n",
       "    </tr>\n",
       "    <tr>\n",
       "      <th>1</th>\n",
       "      <td>512217</td>\n",
       "      <td>video</td>\n",
       "      <td>interest</td>\n",
       "      <td>0.75</td>\n",
       "      <td>0.0</td>\n",
       "      <td>iOS</td>\n",
       "      <td>150000</td>\n",
       "    </tr>\n",
       "    <tr>\n",
       "      <th>2</th>\n",
       "      <td>399556</td>\n",
       "      <td>search</td>\n",
       "      <td>interest</td>\n",
       "      <td>1.50</td>\n",
       "      <td>0.0</td>\n",
       "      <td>iOS</td>\n",
       "      <td>150000</td>\n",
       "    </tr>\n",
       "    <tr>\n",
       "      <th>3</th>\n",
       "      <td>230119</td>\n",
       "      <td>search</td>\n",
       "      <td>interest</td>\n",
       "      <td>1.50</td>\n",
       "      <td>0.0</td>\n",
       "      <td>iOS</td>\n",
       "      <td>150000</td>\n",
       "    </tr>\n",
       "    <tr>\n",
       "      <th>4</th>\n",
       "      <td>619571</td>\n",
       "      <td>search</td>\n",
       "      <td>consideration</td>\n",
       "      <td>1.50</td>\n",
       "      <td>0.0</td>\n",
       "      <td>iOS</td>\n",
       "      <td>150000</td>\n",
       "    </tr>\n",
       "  </tbody>\n",
       "</table>\n",
       "</div>"
      ],
      "text/plain": [
       "   user_id ad_channel   funnel_stage  price  profit       os  timestamp\n",
       "0   666743     banner       interest   0.50     0.0  Android     150000\n",
       "1   512217      video       interest   0.75     0.0      iOS     150000\n",
       "2   399556     search       interest   1.50     0.0      iOS     150000\n",
       "3   230119     search       interest   1.50     0.0      iOS     150000\n",
       "4   619571     search  consideration   1.50     0.0      iOS     150000"
      ]
     },
     "execution_count": 36,
     "metadata": {},
     "output_type": "execute_result"
    }
   ],
   "source": [
    "#очистка исходного датасета от фродовых пользователей\n",
    "\n",
    "df_cleaned = df_campaign[~df_campaign['user_id'].isin(df_users_action_frod['user_id'])]\n",
    "df_cleaned.head()"
   ]
  },
  {
   "cell_type": "code",
   "execution_count": 37,
   "id": "8663d713",
   "metadata": {
    "hidden": true
   },
   "outputs": [],
   "source": [
    "df_cleaned.to_csv('data/advertising_cleaned.csv')"
   ]
  },
  {
   "cell_type": "code",
   "execution_count": 38,
   "id": "8ab634ae",
   "metadata": {
    "hidden": true
   },
   "outputs": [
    {
     "data": {
      "image/png": "[encoded data removed]",
      "text/plain": [
       "<Figure size 640x480 with 1 Axes>"
      ]
     },
     "metadata": {},
     "output_type": "display_data"
    }
   ],
   "source": [
    "plt.hist(df_cleaned.groupby(['user_id', 'timestamp', 'ad_channel']).size().reset_index(name='action_count').action_count, bins=100)\n",
    "plt.xlabel('Значения')\n",
    "plt.ylabel('Частота')\n",
    "plt.title('Гистограмма числа действий пользователей в один момент времени');"
   ]
  },
  {
   "cell_type": "code",
   "execution_count": 39,
   "id": "4316b606",
   "metadata": {
    "hidden": true
   },
   "outputs": [
    {
     "data": {
      "text/html": [
       "<div>\n",
       "<style scoped>\n",
       "    .dataframe tbody tr th:only-of-type {\n",
       "        vertical-align: middle;\n",
       "    }\n",
       "\n",
       "    .dataframe tbody tr th {\n",
       "        vertical-align: top;\n",
       "    }\n",
       "\n",
       "    .dataframe thead th {\n",
       "        text-align: right;\n",
       "    }\n",
       "</style>\n",
       "<table border=\"1\" class=\"dataframe\">\n",
       "  <thead>\n",
       "    <tr style=\"text-align: right;\">\n",
       "      <th></th>\n",
       "      <th>user_id</th>\n",
       "      <th>ad_channel</th>\n",
       "      <th>funnel_stage</th>\n",
       "      <th>price</th>\n",
       "      <th>profit</th>\n",
       "      <th>os</th>\n",
       "      <th>timestamp</th>\n",
       "    </tr>\n",
       "  </thead>\n",
       "  <tbody>\n",
       "    <tr>\n",
       "      <th>334</th>\n",
       "      <td>688974</td>\n",
       "      <td>partner_network</td>\n",
       "      <td>interest</td>\n",
       "      <td>1.0</td>\n",
       "      <td>0.0</td>\n",
       "      <td>Android</td>\n",
       "      <td>150024</td>\n",
       "    </tr>\n",
       "    <tr>\n",
       "      <th>335</th>\n",
       "      <td>688974</td>\n",
       "      <td>partner_network</td>\n",
       "      <td>interest</td>\n",
       "      <td>1.0</td>\n",
       "      <td>0.0</td>\n",
       "      <td>iOS</td>\n",
       "      <td>150024</td>\n",
       "    </tr>\n",
       "    <tr>\n",
       "      <th>336</th>\n",
       "      <td>688974</td>\n",
       "      <td>partner_network</td>\n",
       "      <td>interest</td>\n",
       "      <td>1.0</td>\n",
       "      <td>0.0</td>\n",
       "      <td>iOS</td>\n",
       "      <td>150024</td>\n",
       "    </tr>\n",
       "    <tr>\n",
       "      <th>337</th>\n",
       "      <td>688974</td>\n",
       "      <td>partner_network</td>\n",
       "      <td>interest</td>\n",
       "      <td>1.0</td>\n",
       "      <td>0.0</td>\n",
       "      <td>iOS</td>\n",
       "      <td>150024</td>\n",
       "    </tr>\n",
       "    <tr>\n",
       "      <th>338</th>\n",
       "      <td>688974</td>\n",
       "      <td>partner_network</td>\n",
       "      <td>interest</td>\n",
       "      <td>1.0</td>\n",
       "      <td>0.0</td>\n",
       "      <td>Android</td>\n",
       "      <td>150024</td>\n",
       "    </tr>\n",
       "  </tbody>\n",
       "</table>\n",
       "</div>"
      ],
      "text/plain": [
       "     user_id       ad_channel funnel_stage  price  profit       os  timestamp\n",
       "334   688974  partner_network     interest    1.0     0.0  Android     150024\n",
       "335   688974  partner_network     interest    1.0     0.0      iOS     150024\n",
       "336   688974  partner_network     interest    1.0     0.0      iOS     150024\n",
       "337   688974  partner_network     interest    1.0     0.0      iOS     150024\n",
       "338   688974  partner_network     interest    1.0     0.0  Android     150024"
      ]
     },
     "execution_count": 39,
     "metadata": {},
     "output_type": "execute_result"
    }
   ],
   "source": [
    "#сохранение фродовых значений в отдельный датасет\n",
    "\n",
    "df_frod = df_campaign[df_campaign['user_id'].isin(df_users_action_frod['user_id'])]\n",
    "df_frod.head()"
   ]
  },
  {
   "cell_type": "code",
   "execution_count": 40,
   "id": "a5b6f0e4",
   "metadata": {
    "hidden": true
   },
   "outputs": [],
   "source": [
    "df_frod.to_csv('data/advertising_frod.csv')"
   ]
  },
  {
   "cell_type": "code",
   "execution_count": 41,
   "id": "889c41b7",
   "metadata": {
    "hidden": true
   },
   "outputs": [
    {
     "name": "stdout",
     "output_type": "stream",
     "text": [
      "Процент фродовых пользователей: 76.84\n"
     ]
    }
   ],
   "source": [
    "#Процент фродовых пользователей от общего числа пользователей\n",
    "\n",
    "print('Процент фродовых пользователей:', round((100-df_cleaned.shape[0]/df_campaign.shape[0]*100), 2))"
   ]
  }
 ],
 "metadata": {
  "kernelspec": {
   "display_name": "Python 3 (ipykernel)",
   "language": "python",
   "name": "python3"
  },
  "language_info": {
   "codemirror_mode": {
    "name": "ipython",
    "version": 3
   },
   "file_extension": ".py",
   "mimetype": "text/x-python",
   "name": "python",
   "nbconvert_exporter": "python",
   "pygments_lexer": "ipython3",
   "version": "3.10.13"
  }
 },
 "nbformat": 4,
 "nbformat_minor": 5
}
